{
 "cells": [
  {
   "cell_type": "code",
   "execution_count": 1,
   "metadata": {
    "_cell_guid": "b1076dfc-b9ad-4769-8c92-a6c4dae69d19",
    "_uuid": "8f2839f25d086af736a60e9eeb907d3b93b6e0e5",
    "papermill": {
     "duration": 0.036575,
     "end_time": "2021-03-25T13:51:36.783516",
     "exception": false,
     "start_time": "2021-03-25T13:51:36.746941",
     "status": "completed"
    },
    "tags": []
   },
   "outputs": [],
   "source": [
    "# This Python 3 environment comes with many helpful analytics libraries installed\n",
    "# It is defined by the kaggle/python Docker image: https://github.com/kaggle/docker-python\n",
    "# For example, here's several helpful packages to load\n",
    "\n",
    "import numpy as np # linear algebra\n",
    "import pandas as pd # data processing, CSV file I/O (e.g. pd.read_csv)\n",
    "\n",
    "import matplotlib.pyplot as plt\n",
    "\n",
    "\n",
    "# You can write up to 20GB to the current directory (/kaggle/working/) that gets preserved as output when you create a version using \"Save & Run All\" \n",
    "# You can also write temporary files to /kaggle/temp/, but they won't be saved outside of the current session"
   ]
  },
  {
   "cell_type": "code",
   "execution_count": 2,
   "metadata": {
    "execution": {
     "iopub.execute_input": "2021-03-25T13:51:36.831443Z",
     "iopub.status.busy": "2021-03-25T13:51:36.830738Z",
     "iopub.status.idle": "2021-03-25T13:51:36.834012Z",
     "shell.execute_reply": "2021-03-25T13:51:36.834480Z"
    },
    "papermill": {
     "duration": 0.029268,
     "end_time": "2021-03-25T13:51:36.834667",
     "exception": false,
     "start_time": "2021-03-25T13:51:36.805399",
     "status": "completed"
    },
    "tags": []
   },
   "outputs": [],
   "source": [
    "import warnings\n",
    "warnings.filterwarnings('ignore')"
   ]
  },
  {
   "cell_type": "code",
   "execution_count": 3,
   "metadata": {
    "execution": {
     "iopub.execute_input": "2021-03-25T13:51:36.883642Z",
     "iopub.status.busy": "2021-03-25T13:51:36.882979Z",
     "iopub.status.idle": "2021-03-25T13:51:38.393856Z",
     "shell.execute_reply": "2021-03-25T13:51:38.393095Z"
    },
    "papermill": {
     "duration": 1.537727,
     "end_time": "2021-03-25T13:51:38.394007",
     "exception": false,
     "start_time": "2021-03-25T13:51:36.856280",
     "status": "completed"
    },
    "tags": []
   },
   "outputs": [],
   "source": [
    "from sklearn.metrics import mean_absolute_error\n",
    "\n",
    "from sklearn.linear_model import LogisticRegression\n",
    "from sklearn.tree import DecisionTreeClassifier\n",
    "from sklearn.ensemble import RandomForestClassifier, VotingClassifier\n",
    "\n",
    "from sklearn.model_selection import cross_val_score\n",
    "from sklearn.metrics import confusion_matrix, accuracy_score"
   ]
  },
  {
   "cell_type": "code",
   "execution_count": 4,
   "metadata": {
    "execution": {
     "iopub.execute_input": "2021-03-25T13:51:38.441754Z",
     "iopub.status.busy": "2021-03-25T13:51:38.441056Z",
     "iopub.status.idle": "2021-03-25T13:51:38.443898Z",
     "shell.execute_reply": "2021-03-25T13:51:38.444406Z"
    },
    "papermill": {
     "duration": 0.029091,
     "end_time": "2021-03-25T13:51:38.444580",
     "exception": false,
     "start_time": "2021-03-25T13:51:38.415489",
     "status": "completed"
    },
    "tags": []
   },
   "outputs": [],
   "source": [
    "from sklearn import preprocessing\n",
    "le = preprocessing.LabelEncoder()"
   ]
  },
  {
   "cell_type": "code",
   "execution_count": 2,
   "metadata": {
    "papermill": {
     "duration": 0.081836,
     "end_time": "2021-03-25T13:51:38.547970",
     "exception": false,
     "start_time": "2021-03-25T13:51:38.466134",
     "status": "completed"
    },
    "tags": []
   },
   "outputs": [
    {
     "data": {
      "text/html": [
       "<div>\n",
       "<style scoped>\n",
       "    .dataframe tbody tr th:only-of-type {\n",
       "        vertical-align: middle;\n",
       "    }\n",
       "\n",
       "    .dataframe tbody tr th {\n",
       "        vertical-align: top;\n",
       "    }\n",
       "\n",
       "    .dataframe thead th {\n",
       "        text-align: right;\n",
       "    }\n",
       "</style>\n",
       "<table border=\"1\" class=\"dataframe\">\n",
       "  <thead>\n",
       "    <tr style=\"text-align: right;\">\n",
       "      <th></th>\n",
       "      <th>ID</th>\n",
       "      <th>gender</th>\n",
       "      <th>age</th>\n",
       "      <th>race</th>\n",
       "      <th>dwelling</th>\n",
       "      <th>dwelling_type</th>\n",
       "      <th>province_code</th>\n",
       "      <th>metro_code</th>\n",
       "      <th>psu</th>\n",
       "      <th>nationality</th>\n",
       "      <th>...</th>\n",
       "      <th>marital_st</th>\n",
       "      <th>Lang_inside</th>\n",
       "      <th>Lang_outside</th>\n",
       "      <th>Education</th>\n",
       "      <th>lw_work</th>\n",
       "      <th>lw_business</th>\n",
       "      <th>help_on_household</th>\n",
       "      <th>job_or_business</th>\n",
       "      <th>nature_of_work</th>\n",
       "      <th>target</th>\n",
       "    </tr>\n",
       "  </thead>\n",
       "  <tbody>\n",
       "    <tr>\n",
       "      <th>7726</th>\n",
       "      <td>ID_99925483</td>\n",
       "      <td>Female</td>\n",
       "      <td>39</td>\n",
       "      <td>Black African</td>\n",
       "      <td>Dwelling/house or brick/concrete block structu...</td>\n",
       "      <td>Formal</td>\n",
       "      <td>Mpumalanga</td>\n",
       "      <td>MP - Non Metro</td>\n",
       "      <td>87610121</td>\n",
       "      <td>South Africa</td>\n",
       "      <td>...</td>\n",
       "      <td>Single and have never been married/never lived...</td>\n",
       "      <td>SiSwati</td>\n",
       "      <td>SiSwati</td>\n",
       "      <td>Grade 10/Standard 8/Form 3</td>\n",
       "      <td>No</td>\n",
       "      <td>No</td>\n",
       "      <td>No</td>\n",
       "      <td>No</td>\n",
       "      <td>Not applicable</td>\n",
       "      <td>0</td>\n",
       "    </tr>\n",
       "    <tr>\n",
       "      <th>7727</th>\n",
       "      <td>ID_99928043</td>\n",
       "      <td>Female</td>\n",
       "      <td>27</td>\n",
       "      <td>Black African</td>\n",
       "      <td>Dwelling/house/flat/room in backyard</td>\n",
       "      <td>Formal</td>\n",
       "      <td>Gauteng</td>\n",
       "      <td>GP - Ekurhuleni</td>\n",
       "      <td>79711671</td>\n",
       "      <td>South Africa</td>\n",
       "      <td>...</td>\n",
       "      <td>Single and have never been married/never lived...</td>\n",
       "      <td>Tshivenda</td>\n",
       "      <td>IsiZulu</td>\n",
       "      <td>Honours Degree</td>\n",
       "      <td>No</td>\n",
       "      <td>No</td>\n",
       "      <td>No</td>\n",
       "      <td>No</td>\n",
       "      <td>Not applicable</td>\n",
       "      <td>0</td>\n",
       "    </tr>\n",
       "    <tr>\n",
       "      <th>7728</th>\n",
       "      <td>ID_99942123</td>\n",
       "      <td>Female</td>\n",
       "      <td>55</td>\n",
       "      <td>Black African</td>\n",
       "      <td>Dwelling/house or brick/concrete block structu...</td>\n",
       "      <td>Formal</td>\n",
       "      <td>KwaZulu-Natal</td>\n",
       "      <td>KZN - Non Metro</td>\n",
       "      <td>58210227</td>\n",
       "      <td>South Africa</td>\n",
       "      <td>...</td>\n",
       "      <td>Widowed</td>\n",
       "      <td>IsiZulu</td>\n",
       "      <td>Other (Specify )</td>\n",
       "      <td>Grade 6/Standard 4</td>\n",
       "      <td>No</td>\n",
       "      <td>Yes</td>\n",
       "      <td>No</td>\n",
       "      <td>Not applicable</td>\n",
       "      <td>Casual</td>\n",
       "      <td>0</td>\n",
       "    </tr>\n",
       "    <tr>\n",
       "      <th>7729</th>\n",
       "      <td>ID_99947243</td>\n",
       "      <td>Female</td>\n",
       "      <td>27</td>\n",
       "      <td>Coloured</td>\n",
       "      <td>Semi-Detached house</td>\n",
       "      <td>Formal</td>\n",
       "      <td>Western Cape</td>\n",
       "      <td>WC - City of Cape Town</td>\n",
       "      <td>19911411</td>\n",
       "      <td>South Africa</td>\n",
       "      <td>...</td>\n",
       "      <td>Married</td>\n",
       "      <td>Afrikaans</td>\n",
       "      <td>English</td>\n",
       "      <td>Grade 8/Standard 6/Form 1</td>\n",
       "      <td>No</td>\n",
       "      <td>No</td>\n",
       "      <td>No</td>\n",
       "      <td>No</td>\n",
       "      <td>Not applicable</td>\n",
       "      <td>0</td>\n",
       "    </tr>\n",
       "    <tr>\n",
       "      <th>7730</th>\n",
       "      <td>ID_99960043</td>\n",
       "      <td>Female</td>\n",
       "      <td>61</td>\n",
       "      <td>Black African</td>\n",
       "      <td>Dwelling/house or brick/concrete block structu...</td>\n",
       "      <td>Formal</td>\n",
       "      <td>Mpumalanga</td>\n",
       "      <td>MP - Non Metro</td>\n",
       "      <td>87110364</td>\n",
       "      <td>South Africa</td>\n",
       "      <td>...</td>\n",
       "      <td>Married</td>\n",
       "      <td>Sepedi</td>\n",
       "      <td>Sepedi</td>\n",
       "      <td>Grade 6/Standard 4</td>\n",
       "      <td>No</td>\n",
       "      <td>No</td>\n",
       "      <td>No</td>\n",
       "      <td>No</td>\n",
       "      <td>Not applicable</td>\n",
       "      <td>0</td>\n",
       "    </tr>\n",
       "    <tr>\n",
       "      <th>7731</th>\n",
       "      <td>ID_99962603</td>\n",
       "      <td>Female</td>\n",
       "      <td>55</td>\n",
       "      <td>Black African</td>\n",
       "      <td>Informal dwelling/shack in backyard</td>\n",
       "      <td>Informal</td>\n",
       "      <td>Gauteng</td>\n",
       "      <td>GP - Non Metro</td>\n",
       "      <td>76011291</td>\n",
       "      <td>South Africa</td>\n",
       "      <td>...</td>\n",
       "      <td>Living together like husband and wife</td>\n",
       "      <td>Sesotho</td>\n",
       "      <td>Sesotho</td>\n",
       "      <td>Grade 4/Standard 2</td>\n",
       "      <td>No</td>\n",
       "      <td>No</td>\n",
       "      <td>No</td>\n",
       "      <td>No</td>\n",
       "      <td>Not applicable</td>\n",
       "      <td>0</td>\n",
       "    </tr>\n",
       "    <tr>\n",
       "      <th>7732</th>\n",
       "      <td>ID_99970283</td>\n",
       "      <td>Female</td>\n",
       "      <td>22</td>\n",
       "      <td>Coloured</td>\n",
       "      <td>Dwelling/house or brick/concrete block structu...</td>\n",
       "      <td>Formal</td>\n",
       "      <td>Western Cape</td>\n",
       "      <td>WC - Non Metro</td>\n",
       "      <td>16910060</td>\n",
       "      <td>South Africa</td>\n",
       "      <td>...</td>\n",
       "      <td>Single and have never been married/never lived...</td>\n",
       "      <td>Afrikaans</td>\n",
       "      <td>Afrikaans</td>\n",
       "      <td>Grade 12/Standard 10/Form 5/Matric (No Exemption)</td>\n",
       "      <td>Yes</td>\n",
       "      <td>No</td>\n",
       "      <td>No</td>\n",
       "      <td>Not applicable</td>\n",
       "      <td>Seasonal</td>\n",
       "      <td>0</td>\n",
       "    </tr>\n",
       "    <tr>\n",
       "      <th>7733</th>\n",
       "      <td>ID_99981803</td>\n",
       "      <td>Female</td>\n",
       "      <td>38</td>\n",
       "      <td>Black African</td>\n",
       "      <td>Dwelling/house or brick/concrete block structu...</td>\n",
       "      <td>Formal</td>\n",
       "      <td>Western Cape</td>\n",
       "      <td>WC - Non Metro</td>\n",
       "      <td>16410103</td>\n",
       "      <td>South Africa</td>\n",
       "      <td>...</td>\n",
       "      <td>Widowed</td>\n",
       "      <td>IsiXhosa</td>\n",
       "      <td>IsiXhosa</td>\n",
       "      <td>Do not know</td>\n",
       "      <td>Yes</td>\n",
       "      <td>No</td>\n",
       "      <td>No</td>\n",
       "      <td>Not applicable</td>\n",
       "      <td>Unspecified</td>\n",
       "      <td>0</td>\n",
       "    </tr>\n",
       "    <tr>\n",
       "      <th>7734</th>\n",
       "      <td>ID_99983083</td>\n",
       "      <td>Female</td>\n",
       "      <td>52</td>\n",
       "      <td>Black African</td>\n",
       "      <td>Dwelling/house or brick/concrete block structu...</td>\n",
       "      <td>Informal</td>\n",
       "      <td>Mpumalanga</td>\n",
       "      <td>MP - Non Metro</td>\n",
       "      <td>86810088</td>\n",
       "      <td>Other</td>\n",
       "      <td>...</td>\n",
       "      <td>Widowed</td>\n",
       "      <td>Sesotho</td>\n",
       "      <td>IsiZulu</td>\n",
       "      <td>Grade 11/Standard 9/Form 4</td>\n",
       "      <td>No</td>\n",
       "      <td>No</td>\n",
       "      <td>No</td>\n",
       "      <td>No</td>\n",
       "      <td>Not applicable</td>\n",
       "      <td>0</td>\n",
       "    </tr>\n",
       "    <tr>\n",
       "      <th>7735</th>\n",
       "      <td>ID_99985643</td>\n",
       "      <td>Female</td>\n",
       "      <td>42</td>\n",
       "      <td>Black African</td>\n",
       "      <td>Dwelling/house or brick/concrete block structu...</td>\n",
       "      <td>Formal</td>\n",
       "      <td>North West</td>\n",
       "      <td>NW - Non Metro</td>\n",
       "      <td>67410185</td>\n",
       "      <td>South Africa</td>\n",
       "      <td>...</td>\n",
       "      <td>Married</td>\n",
       "      <td>Setswana</td>\n",
       "      <td>Setswana</td>\n",
       "      <td>Grade 10/Standard 8/Form 3</td>\n",
       "      <td>No</td>\n",
       "      <td>No</td>\n",
       "      <td>No</td>\n",
       "      <td>No</td>\n",
       "      <td>Not applicable</td>\n",
       "      <td>0</td>\n",
       "    </tr>\n",
       "  </tbody>\n",
       "</table>\n",
       "<p>10 rows × 21 columns</p>\n",
       "</div>"
      ],
      "text/plain": [
       "               ID  gender  age           race  \\\n",
       "7726  ID_99925483  Female   39  Black African   \n",
       "7727  ID_99928043  Female   27  Black African   \n",
       "7728  ID_99942123  Female   55  Black African   \n",
       "7729  ID_99947243  Female   27       Coloured   \n",
       "7730  ID_99960043  Female   61  Black African   \n",
       "7731  ID_99962603  Female   55  Black African   \n",
       "7732  ID_99970283  Female   22       Coloured   \n",
       "7733  ID_99981803  Female   38  Black African   \n",
       "7734  ID_99983083  Female   52  Black African   \n",
       "7735  ID_99985643  Female   42  Black African   \n",
       "\n",
       "                                               dwelling dwelling_type  \\\n",
       "7726  Dwelling/house or brick/concrete block structu...        Formal   \n",
       "7727               Dwelling/house/flat/room in backyard        Formal   \n",
       "7728  Dwelling/house or brick/concrete block structu...        Formal   \n",
       "7729                                Semi-Detached house        Formal   \n",
       "7730  Dwelling/house or brick/concrete block structu...        Formal   \n",
       "7731                Informal dwelling/shack in backyard      Informal   \n",
       "7732  Dwelling/house or brick/concrete block structu...        Formal   \n",
       "7733  Dwelling/house or brick/concrete block structu...        Formal   \n",
       "7734  Dwelling/house or brick/concrete block structu...      Informal   \n",
       "7735  Dwelling/house or brick/concrete block structu...        Formal   \n",
       "\n",
       "      province_code              metro_code       psu   nationality  ...  \\\n",
       "7726     Mpumalanga          MP - Non Metro  87610121  South Africa  ...   \n",
       "7727        Gauteng         GP - Ekurhuleni  79711671  South Africa  ...   \n",
       "7728  KwaZulu-Natal         KZN - Non Metro  58210227  South Africa  ...   \n",
       "7729   Western Cape  WC - City of Cape Town  19911411  South Africa  ...   \n",
       "7730     Mpumalanga          MP - Non Metro  87110364  South Africa  ...   \n",
       "7731        Gauteng          GP - Non Metro  76011291  South Africa  ...   \n",
       "7732   Western Cape          WC - Non Metro  16910060  South Africa  ...   \n",
       "7733   Western Cape          WC - Non Metro  16410103  South Africa  ...   \n",
       "7734     Mpumalanga          MP - Non Metro  86810088         Other  ...   \n",
       "7735     North West          NW - Non Metro  67410185  South Africa  ...   \n",
       "\n",
       "                                             marital_st Lang_inside  \\\n",
       "7726  Single and have never been married/never lived...     SiSwati   \n",
       "7727  Single and have never been married/never lived...   Tshivenda   \n",
       "7728                                            Widowed     IsiZulu   \n",
       "7729                                            Married   Afrikaans   \n",
       "7730                                            Married      Sepedi   \n",
       "7731              Living together like husband and wife     Sesotho   \n",
       "7732  Single and have never been married/never lived...   Afrikaans   \n",
       "7733                                            Widowed    IsiXhosa   \n",
       "7734                                            Widowed     Sesotho   \n",
       "7735                                            Married    Setswana   \n",
       "\n",
       "          Lang_outside                                          Education  \\\n",
       "7726           SiSwati                         Grade 10/Standard 8/Form 3   \n",
       "7727           IsiZulu                                     Honours Degree   \n",
       "7728  Other (Specify )                                 Grade 6/Standard 4   \n",
       "7729           English                          Grade 8/Standard 6/Form 1   \n",
       "7730            Sepedi                                 Grade 6/Standard 4   \n",
       "7731           Sesotho                                 Grade 4/Standard 2   \n",
       "7732         Afrikaans  Grade 12/Standard 10/Form 5/Matric (No Exemption)   \n",
       "7733          IsiXhosa                                        Do not know   \n",
       "7734           IsiZulu                         Grade 11/Standard 9/Form 4   \n",
       "7735          Setswana                         Grade 10/Standard 8/Form 3   \n",
       "\n",
       "     lw_work lw_business help_on_household job_or_business  nature_of_work  \\\n",
       "7726      No          No                No              No  Not applicable   \n",
       "7727      No          No                No              No  Not applicable   \n",
       "7728      No         Yes                No  Not applicable          Casual   \n",
       "7729      No          No                No              No  Not applicable   \n",
       "7730      No          No                No              No  Not applicable   \n",
       "7731      No          No                No              No  Not applicable   \n",
       "7732     Yes          No                No  Not applicable        Seasonal   \n",
       "7733     Yes          No                No  Not applicable     Unspecified   \n",
       "7734      No          No                No              No  Not applicable   \n",
       "7735      No          No                No              No  Not applicable   \n",
       "\n",
       "     target  \n",
       "7726      0  \n",
       "7727      0  \n",
       "7728      0  \n",
       "7729      0  \n",
       "7730      0  \n",
       "7731      0  \n",
       "7732      0  \n",
       "7733      0  \n",
       "7734      0  \n",
       "7735      0  \n",
       "\n",
       "[10 rows x 21 columns]"
      ]
     },
     "execution_count": 2,
     "metadata": {},
     "output_type": "execute_result"
    }
   ],
   "source": [
    "train_data = pd.read_csv(\"train.csv\")\n",
    "train_data.tail(10)"
   ]
  },
  {
   "cell_type": "markdown",
   "metadata": {
    "papermill": {
     "duration": 0.02301,
     "end_time": "2021-03-25T13:51:38.713063",
     "exception": false,
     "start_time": "2021-03-25T13:51:38.690053",
     "status": "completed"
    },
    "tags": []
   },
   "source": [
    "Preprocessing"
   ]
  },
  {
   "cell_type": "code",
   "execution_count": 7,
   "metadata": {
    "execution": {
     "iopub.execute_input": "2021-03-25T13:51:38.767514Z",
     "iopub.status.busy": "2021-03-25T13:51:38.766587Z",
     "iopub.status.idle": "2021-03-25T13:51:38.771292Z",
     "shell.execute_reply": "2021-03-25T13:51:38.770644Z"
    },
    "papermill": {
     "duration": 0.03548,
     "end_time": "2021-03-25T13:51:38.771451",
     "exception": false,
     "start_time": "2021-03-25T13:51:38.735971",
     "status": "completed"
    },
    "tags": []
   },
   "outputs": [
    {
     "data": {
      "text/plain": [
       "PassengerId      0\n",
       "Survived         0\n",
       "Pclass           0\n",
       "Name             0\n",
       "Sex              0\n",
       "Age            177\n",
       "SibSp            0\n",
       "Parch            0\n",
       "Ticket           0\n",
       "Fare             0\n",
       "Cabin          687\n",
       "Embarked         2\n",
       "dtype: int64"
      ]
     },
     "execution_count": 7,
     "metadata": {},
     "output_type": "execute_result"
    }
   ],
   "source": [
    "\n",
    "train_data.isnull().sum()"
   ]
  },
  {
   "cell_type": "code",
   "execution_count": 8,
   "metadata": {
    "execution": {
     "iopub.execute_input": "2021-03-25T13:51:38.823134Z",
     "iopub.status.busy": "2021-03-25T13:51:38.822435Z",
     "iopub.status.idle": "2021-03-25T13:51:38.826966Z",
     "shell.execute_reply": "2021-03-25T13:51:38.826208Z"
    },
    "papermill": {
     "duration": 0.032417,
     "end_time": "2021-03-25T13:51:38.827193",
     "exception": false,
     "start_time": "2021-03-25T13:51:38.794776",
     "status": "completed"
    },
    "tags": []
   },
   "outputs": [
    {
     "data": {
      "text/plain": [
       "(891, 12)"
      ]
     },
     "execution_count": 8,
     "metadata": {},
     "output_type": "execute_result"
    }
   ],
   "source": [
    "train_data.shape"
   ]
  },
  {
   "cell_type": "code",
   "execution_count": 9,
   "metadata": {
    "execution": {
     "iopub.execute_input": "2021-03-25T13:51:38.881461Z",
     "iopub.status.busy": "2021-03-25T13:51:38.880734Z",
     "iopub.status.idle": "2021-03-25T13:51:38.883361Z",
     "shell.execute_reply": "2021-03-25T13:51:38.883883Z"
    },
    "papermill": {
     "duration": 0.032301,
     "end_time": "2021-03-25T13:51:38.884071",
     "exception": false,
     "start_time": "2021-03-25T13:51:38.851770",
     "status": "completed"
    },
    "tags": []
   },
   "outputs": [
    {
     "data": {
      "text/plain": [
       "Index(['PassengerId', 'Survived', 'Pclass', 'Name', 'Sex', 'Age', 'SibSp',\n",
       "       'Parch', 'Ticket', 'Fare', 'Cabin', 'Embarked'],\n",
       "      dtype='object')"
      ]
     },
     "execution_count": 9,
     "metadata": {},
     "output_type": "execute_result"
    }
   ],
   "source": [
    "train_data.columns"
   ]
  },
  {
   "cell_type": "code",
   "execution_count": 10,
   "metadata": {
    "execution": {
     "iopub.execute_input": "2021-03-25T13:51:38.940038Z",
     "iopub.status.busy": "2021-03-25T13:51:38.939274Z",
     "iopub.status.idle": "2021-03-25T13:51:38.962852Z",
     "shell.execute_reply": "2021-03-25T13:51:38.963630Z"
    },
    "papermill": {
     "duration": 0.055302,
     "end_time": "2021-03-25T13:51:38.963904",
     "exception": false,
     "start_time": "2021-03-25T13:51:38.908602",
     "status": "completed"
    },
    "tags": []
   },
   "outputs": [
    {
     "data": {
      "text/html": [
       "<div>\n",
       "<style scoped>\n",
       "    .dataframe tbody tr th:only-of-type {\n",
       "        vertical-align: middle;\n",
       "    }\n",
       "\n",
       "    .dataframe tbody tr th {\n",
       "        vertical-align: top;\n",
       "    }\n",
       "\n",
       "    .dataframe thead th {\n",
       "        text-align: right;\n",
       "    }\n",
       "</style>\n",
       "<table border=\"1\" class=\"dataframe\">\n",
       "  <thead>\n",
       "    <tr style=\"text-align: right;\">\n",
       "      <th></th>\n",
       "      <th>PassengerId</th>\n",
       "      <th>Survived</th>\n",
       "      <th>Pclass</th>\n",
       "      <th>Name</th>\n",
       "      <th>Sex</th>\n",
       "      <th>Age</th>\n",
       "      <th>SibSp</th>\n",
       "      <th>Parch</th>\n",
       "      <th>Ticket</th>\n",
       "      <th>Fare</th>\n",
       "      <th>Cabin</th>\n",
       "      <th>Embarked</th>\n",
       "    </tr>\n",
       "  </thead>\n",
       "  <tbody>\n",
       "    <tr>\n",
       "      <th>0</th>\n",
       "      <td>1</td>\n",
       "      <td>0</td>\n",
       "      <td>3</td>\n",
       "      <td>Braund, Mr. Owen Harris</td>\n",
       "      <td>male</td>\n",
       "      <td>22.0</td>\n",
       "      <td>1</td>\n",
       "      <td>0</td>\n",
       "      <td>A/5 21171</td>\n",
       "      <td>7.2500</td>\n",
       "      <td>NaN</td>\n",
       "      <td>S</td>\n",
       "    </tr>\n",
       "    <tr>\n",
       "      <th>1</th>\n",
       "      <td>2</td>\n",
       "      <td>1</td>\n",
       "      <td>1</td>\n",
       "      <td>Cumings, Mrs. John Bradley (Florence Briggs Th...</td>\n",
       "      <td>female</td>\n",
       "      <td>38.0</td>\n",
       "      <td>1</td>\n",
       "      <td>0</td>\n",
       "      <td>PC 17599</td>\n",
       "      <td>71.2833</td>\n",
       "      <td>C85</td>\n",
       "      <td>C</td>\n",
       "    </tr>\n",
       "    <tr>\n",
       "      <th>2</th>\n",
       "      <td>3</td>\n",
       "      <td>1</td>\n",
       "      <td>3</td>\n",
       "      <td>Heikkinen, Miss. Laina</td>\n",
       "      <td>female</td>\n",
       "      <td>26.0</td>\n",
       "      <td>0</td>\n",
       "      <td>0</td>\n",
       "      <td>STON/O2. 3101282</td>\n",
       "      <td>7.9250</td>\n",
       "      <td>NaN</td>\n",
       "      <td>S</td>\n",
       "    </tr>\n",
       "    <tr>\n",
       "      <th>3</th>\n",
       "      <td>4</td>\n",
       "      <td>1</td>\n",
       "      <td>1</td>\n",
       "      <td>Futrelle, Mrs. Jacques Heath (Lily May Peel)</td>\n",
       "      <td>female</td>\n",
       "      <td>35.0</td>\n",
       "      <td>1</td>\n",
       "      <td>0</td>\n",
       "      <td>113803</td>\n",
       "      <td>53.1000</td>\n",
       "      <td>C123</td>\n",
       "      <td>S</td>\n",
       "    </tr>\n",
       "    <tr>\n",
       "      <th>4</th>\n",
       "      <td>5</td>\n",
       "      <td>0</td>\n",
       "      <td>3</td>\n",
       "      <td>Allen, Mr. William Henry</td>\n",
       "      <td>male</td>\n",
       "      <td>35.0</td>\n",
       "      <td>0</td>\n",
       "      <td>0</td>\n",
       "      <td>373450</td>\n",
       "      <td>8.0500</td>\n",
       "      <td>NaN</td>\n",
       "      <td>S</td>\n",
       "    </tr>\n",
       "  </tbody>\n",
       "</table>\n",
       "</div>"
      ],
      "text/plain": [
       "   PassengerId  Survived  Pclass  \\\n",
       "0            1         0       3   \n",
       "1            2         1       1   \n",
       "2            3         1       3   \n",
       "3            4         1       1   \n",
       "4            5         0       3   \n",
       "\n",
       "                                                Name     Sex   Age  SibSp  \\\n",
       "0                            Braund, Mr. Owen Harris    male  22.0      1   \n",
       "1  Cumings, Mrs. John Bradley (Florence Briggs Th...  female  38.0      1   \n",
       "2                             Heikkinen, Miss. Laina  female  26.0      0   \n",
       "3       Futrelle, Mrs. Jacques Heath (Lily May Peel)  female  35.0      1   \n",
       "4                           Allen, Mr. William Henry    male  35.0      0   \n",
       "\n",
       "   Parch            Ticket     Fare Cabin Embarked  \n",
       "0      0         A/5 21171   7.2500   NaN        S  \n",
       "1      0          PC 17599  71.2833   C85        C  \n",
       "2      0  STON/O2. 3101282   7.9250   NaN        S  \n",
       "3      0            113803  53.1000  C123        S  \n",
       "4      0            373450   8.0500   NaN        S  "
      ]
     },
     "execution_count": 10,
     "metadata": {},
     "output_type": "execute_result"
    }
   ],
   "source": [
    "train_data.head()"
   ]
  },
  {
   "cell_type": "markdown",
   "metadata": {
    "papermill": {
     "duration": 0.036301,
     "end_time": "2021-03-25T13:51:39.030818",
     "exception": false,
     "start_time": "2021-03-25T13:51:38.994517",
     "status": "completed"
    },
    "tags": []
   },
   "source": [
    "# **Exploratory Data Analysis(EDA)**"
   ]
  },
  {
   "cell_type": "code",
   "execution_count": 11,
   "metadata": {
    "execution": {
     "iopub.execute_input": "2021-03-25T13:51:39.096757Z",
     "iopub.status.busy": "2021-03-25T13:51:39.096045Z",
     "iopub.status.idle": "2021-03-25T13:51:39.334151Z",
     "shell.execute_reply": "2021-03-25T13:51:39.334684Z"
    },
    "papermill": {
     "duration": 0.274381,
     "end_time": "2021-03-25T13:51:39.334863",
     "exception": false,
     "start_time": "2021-03-25T13:51:39.060482",
     "status": "completed"
    },
    "tags": []
   },
   "outputs": [
    {
     "data": {
      "image/png": "[encoded data removed]",
      "text/plain": [
       "<Figure size 720x360 with 1 Axes>"
      ]
     },
     "metadata": {
      "needs_background": "light"
     },
     "output_type": "display_data"
    },
    {
     "data": {
      "text/html": [
       "<div>\n",
       "<style scoped>\n",
       "    .dataframe tbody tr th:only-of-type {\n",
       "        vertical-align: middle;\n",
       "    }\n",
       "\n",
       "    .dataframe tbody tr th {\n",
       "        vertical-align: top;\n",
       "    }\n",
       "\n",
       "    .dataframe thead tr th {\n",
       "        text-align: left;\n",
       "    }\n",
       "</style>\n",
       "<table border=\"1\" class=\"dataframe\">\n",
       "  <thead>\n",
       "    <tr>\n",
       "      <th>Sex</th>\n",
       "      <th>female</th>\n",
       "      <th>male</th>\n",
       "    </tr>\n",
       "  </thead>\n",
       "  <tbody>\n",
       "    <tr>\n",
       "      <th>Dead</th>\n",
       "      <td>81</td>\n",
       "      <td>468</td>\n",
       "    </tr>\n",
       "    <tr>\n",
       "      <th>Survived</th>\n",
       "      <td>233</td>\n",
       "      <td>109</td>\n",
       "    </tr>\n",
       "  </tbody>\n",
       "</table>\n",
       "</div>"
      ],
      "text/plain": [
       "Sex      female male\n",
       "Dead         81  468\n",
       "Survived    233  109"
      ]
     },
     "execution_count": 11,
     "metadata": {},
     "output_type": "execute_result"
    }
   ],
   "source": [
    "dead = train_data.loc[train_data[\"Survived\"]==0, [\"Sex\"]].value_counts()\n",
    "survived = train_data.loc[train_data[\"Survived\"]==1, [\"Sex\"]].value_counts()\n",
    "d_s = pd.DataFrame([dead, survived], index=[\"Dead\", \"Survived\"])\n",
    "d_s.plot(kind=\"bar\", figsize=(10, 5), title=\"Sex vs Survival\", xlabel=\"Sex\", ylabel=\"survival\", rot=0, fontsize=10)\n",
    "plt.show()\n",
    "d_s"
   ]
  },
  {
   "cell_type": "code",
   "execution_count": 12,
   "metadata": {
    "execution": {
     "iopub.execute_input": "2021-03-25T13:51:39.398930Z",
     "iopub.status.busy": "2021-03-25T13:51:39.395171Z",
     "iopub.status.idle": "2021-03-25T13:51:39.591352Z",
     "shell.execute_reply": "2021-03-25T13:51:39.591952Z"
    },
    "papermill": {
     "duration": 0.230631,
     "end_time": "2021-03-25T13:51:39.592122",
     "exception": false,
     "start_time": "2021-03-25T13:51:39.361491",
     "status": "completed"
    },
    "tags": []
   },
   "outputs": [
    {
     "data": {
      "image/png": "[encoded data removed]",
      "text/plain": [
       "<Figure size 1080x504 with 1 Axes>"
      ]
     },
     "metadata": {
      "needs_background": "light"
     },
     "output_type": "display_data"
    },
    {
     "data": {
      "text/html": [
       "<div>\n",
       "<style scoped>\n",
       "    .dataframe tbody tr th:only-of-type {\n",
       "        vertical-align: middle;\n",
       "    }\n",
       "\n",
       "    .dataframe tbody tr th {\n",
       "        vertical-align: top;\n",
       "    }\n",
       "\n",
       "    .dataframe thead th {\n",
       "        text-align: right;\n",
       "    }\n",
       "</style>\n",
       "<table border=\"1\" class=\"dataframe\">\n",
       "  <thead>\n",
       "    <tr style=\"text-align: right;\">\n",
       "      <th></th>\n",
       "      <th>1</th>\n",
       "      <th>2</th>\n",
       "      <th>3</th>\n",
       "    </tr>\n",
       "  </thead>\n",
       "  <tbody>\n",
       "    <tr>\n",
       "      <th>Dead</th>\n",
       "      <td>80</td>\n",
       "      <td>97</td>\n",
       "      <td>372</td>\n",
       "    </tr>\n",
       "    <tr>\n",
       "      <th>Survived</th>\n",
       "      <td>136</td>\n",
       "      <td>87</td>\n",
       "      <td>119</td>\n",
       "    </tr>\n",
       "  </tbody>\n",
       "</table>\n",
       "</div>"
      ],
      "text/plain": [
       "            1   2    3\n",
       "Dead       80  97  372\n",
       "Survived  136  87  119"
      ]
     },
     "execution_count": 12,
     "metadata": {},
     "output_type": "execute_result"
    }
   ],
   "source": [
    "dead = train_data.loc[train_data[\"Survived\"] == 0][\"Pclass\"].value_counts()\n",
    "survived = train_data.loc[train_data[\"Survived\"] == 1][\"Pclass\"].value_counts()\n",
    "d_s = pd.DataFrame([dead, survived], index=[\"Dead\", \"Survived\"])\n",
    "d_s.plot(kind=\"bar\", figsize=(15,7), title=\"Pclass vs Survival\", xlabel=\"Survival\", ylabel=\"Pclass\", rot=0)\n",
    "plt.show()\n",
    "d_s"
   ]
  },
  {
   "cell_type": "markdown",
   "metadata": {
    "papermill": {
     "duration": 0.027827,
     "end_time": "2021-03-25T13:51:39.647974",
     "exception": false,
     "start_time": "2021-03-25T13:51:39.620147",
     "status": "completed"
    },
    "tags": []
   },
   "source": [
    "# ****Feature Engineering****\n",
    "\n",
    "1. I created extracted the titles from the Name feature to create a **Titles** feature\n",
    "2. I created a new group **Cabgroup** which is the first later of each row in the Cabin feature\n",
    "3. I created a **Family** feature which is the addition of the Parch and Sibsp columns\n",
    "\n",
    "\n",
    "# ****Data Cleaning****\n",
    "1. Filled in the NaN in the Age feature with the mean age of each title\n",
    "2. Filled in the missing values in the CabGroup with the median Cabgroup grouped by Pclass\n",
    "3. Filled the two missing values in the Embarked column with **S** which is the most embarked location \n",
    "\n",
    "# ****Preprocessing****"
   ]
  },
  {
   "cell_type": "code",
   "execution_count": 13,
   "metadata": {
    "execution": {
     "iopub.execute_input": "2021-03-25T13:51:39.724216Z",
     "iopub.status.busy": "2021-03-25T13:51:39.713236Z",
     "iopub.status.idle": "2021-03-25T13:51:39.726684Z",
     "shell.execute_reply": "2021-03-25T13:51:39.727187Z"
    },
    "papermill": {
     "duration": 0.050727,
     "end_time": "2021-03-25T13:51:39.727372",
     "exception": false,
     "start_time": "2021-03-25T13:51:39.676645",
     "status": "completed"
    },
    "tags": []
   },
   "outputs": [],
   "source": [
    "def transform_data(df):\n",
    "    \n",
    "    titles = {\n",
    "      \"Mr.\": 0, \"Miss.\": 1, \"Mrs.\": 2, \"Master.\": 3, \"Dr.\": 4, \"Rev.\": 5, \"Col.\": 4,\n",
    "      \"Mlle.\": 4, \"Major.\": 4, \"Jonkheer.\": 4, \"Ms.\": 2, \"Capt.\": 4, \"Countess.\": 5, \"Sir.\": 0, \"Don.\": 4, \"Lady.\": 5, \"Mme.\": 1, \"Dona.\":2\n",
    "    }\n",
    "    df[\"Title\"] = df[\"Name\"].str.extract(\"([A-Za-z]+\\.)\", expand = False)\n",
    "    df[\"Title\"] = df[\"Title\"].map(titles)\n",
    "    df[\"Title\"].value_counts()\n",
    "    df[df[\"Title\"] == \"Ms.\"]\n",
    "    df[\"Age\"].fillna(df.groupby(\"Title\")[\"Age\"].transform(\"mean\"), inplace = True)\n",
    "\n",
    "    df[\"Family\"] = df[\"Parch\"] + df[\"SibSp\"]\n",
    "\n",
    "    df[\"Cabgroup\"] = df[\"Cabin\"].str[: 1]\n",
    "    cabin_mapping = { \"C\": 1, \"B\": 2, \"D\": 3, \"E\": 4, \"A\": 5, \"F\": 6, \"G\": 7, \"T\": 8 }\n",
    "    df[\"Cabgroup\"] = df[\"Cabgroup\"].map(cabin_mapping)\n",
    "    df[\"Cabgroup\"].fillna(df.groupby(\"Pclass\")[\"Cabgroup\"].transform(\"median\"), inplace = True)\n",
    "\n",
    "    df[\"Embarked\"].fillna(\"S\", inplace = True)\n",
    "\n",
    "        # df[\"Sex\"] = df[\"Sex\"].astype(\"category\")\n",
    "        # df[\"SexEcoded\"] = df[\"Sex\"].cat.codes\n",
    "        # df.drop([\"SexEcoded\"], axis = 1, inplace = True)\n",
    "\n",
    "    df.loc[df[\"Age\"] <= 12, \"Age\"] = 0\n",
    "    df.loc[(df[\"Age\"] > 12) & (df[\"Age\"] <= 19), \"Age\"] = 1\n",
    "    df.loc[(df[\"Age\"] > 19) & (df[\"Age\"] <= 25), \"Age\"] = 2\n",
    "    df.loc[(df[\"Age\"] > 25) & (df[\"Age\"] <= 35), \"Age\"] = 3\n",
    "    df.loc[(df[\"Age\"] > 35) & (df[\"Age\"] <= 50), \"Age\"] = 4\n",
    "    df.loc[df[\"Age\"] > 50, \"Age\"] = 5\n",
    "\n",
    "    df.loc[df[\"Fare\"] <= 5, \"Fare\"] = 0\n",
    "    df.loc[(df[\"Fare\"] > 5) & (df[\"Fare\"] <= 15), \"Fare\"] = 1\n",
    "    df.loc[(df[\"Fare\"] > 15) & (df[\"Fare\"] <= 25), \"Fare\"] = 2\n",
    "    df.loc[(df[\"Fare\"] > 25) & (df[\"Fare\"] <= 40), \"Fare\"] = 3\n",
    "    df.loc[(df[\"Fare\"] > 40) & (df[\"Fare\"] <= 70), \"Fare\"] = 4\n",
    "    df.loc[df[\"Fare\"] > 70, \"Fare\"] = 5\n",
    "\n",
    "    le.fit(df[\"Sex\"])\n",
    "    df[\"Sex\"] = le.transform(df[\"Sex\"])\n",
    "\n",
    "    le.fit(df[\"Embarked\"])\n",
    "    df[\"Embarked\"] = le.transform(df[\"Embarked\"])\n",
    "\n",
    "    le.fit(df[\"Ticket\"])\n",
    "    df[\"Ticket\"] = le.transform(df[\"Ticket\"])\n",
    "\n",
    "    df.drop([\"Name\", \"Cabin\", \"SibSp\", \"Parch\"], axis = 1, inplace = True)\n",
    "    df.head(50)\n",
    "    \n",
    "    return df\n"
   ]
  },
  {
   "cell_type": "code",
   "execution_count": 14,
   "metadata": {
    "execution": {
     "iopub.execute_input": "2021-03-25T13:51:39.802652Z",
     "iopub.status.busy": "2021-03-25T13:51:39.793785Z",
     "iopub.status.idle": "2021-03-25T13:51:39.826546Z",
     "shell.execute_reply": "2021-03-25T13:51:39.826000Z"
    },
    "papermill": {
     "duration": 0.071313,
     "end_time": "2021-03-25T13:51:39.826703",
     "exception": false,
     "start_time": "2021-03-25T13:51:39.755390",
     "status": "completed"
    },
    "tags": []
   },
   "outputs": [
    {
     "data": {
      "text/plain": [
       "PassengerId    0\n",
       "Survived       0\n",
       "Pclass         0\n",
       "Sex            0\n",
       "Age            0\n",
       "Ticket         0\n",
       "Fare           0\n",
       "Embarked       0\n",
       "Title          0\n",
       "Family         0\n",
       "Cabgroup       0\n",
       "dtype: int64"
      ]
     },
     "execution_count": 14,
     "metadata": {},
     "output_type": "execute_result"
    }
   ],
   "source": [
    "train = transform_data(train_data)\n",
    "train.isnull().sum()"
   ]
  },
  {
   "cell_type": "code",
   "execution_count": 15,
   "metadata": {
    "execution": {
     "iopub.execute_input": "2021-03-25T13:51:39.898397Z",
     "iopub.status.busy": "2021-03-25T13:51:39.897443Z",
     "iopub.status.idle": "2021-03-25T13:51:39.902040Z",
     "shell.execute_reply": "2021-03-25T13:51:39.901420Z"
    },
    "papermill": {
     "duration": 0.047086,
     "end_time": "2021-03-25T13:51:39.902179",
     "exception": false,
     "start_time": "2021-03-25T13:51:39.855093",
     "status": "completed"
    },
    "tags": []
   },
   "outputs": [
    {
     "data": {
      "text/html": [
       "<div>\n",
       "<style scoped>\n",
       "    .dataframe tbody tr th:only-of-type {\n",
       "        vertical-align: middle;\n",
       "    }\n",
       "\n",
       "    .dataframe tbody tr th {\n",
       "        vertical-align: top;\n",
       "    }\n",
       "\n",
       "    .dataframe thead th {\n",
       "        text-align: right;\n",
       "    }\n",
       "</style>\n",
       "<table border=\"1\" class=\"dataframe\">\n",
       "  <thead>\n",
       "    <tr style=\"text-align: right;\">\n",
       "      <th></th>\n",
       "      <th>PassengerId</th>\n",
       "      <th>Survived</th>\n",
       "      <th>Pclass</th>\n",
       "      <th>Sex</th>\n",
       "      <th>Age</th>\n",
       "      <th>Ticket</th>\n",
       "      <th>Fare</th>\n",
       "      <th>Embarked</th>\n",
       "      <th>Title</th>\n",
       "      <th>Family</th>\n",
       "      <th>Cabgroup</th>\n",
       "    </tr>\n",
       "  </thead>\n",
       "  <tbody>\n",
       "    <tr>\n",
       "      <th>0</th>\n",
       "      <td>1</td>\n",
       "      <td>0</td>\n",
       "      <td>3</td>\n",
       "      <td>1</td>\n",
       "      <td>2.0</td>\n",
       "      <td>523</td>\n",
       "      <td>1.0</td>\n",
       "      <td>2</td>\n",
       "      <td>0</td>\n",
       "      <td>1</td>\n",
       "      <td>6.0</td>\n",
       "    </tr>\n",
       "    <tr>\n",
       "      <th>1</th>\n",
       "      <td>2</td>\n",
       "      <td>1</td>\n",
       "      <td>1</td>\n",
       "      <td>0</td>\n",
       "      <td>4.0</td>\n",
       "      <td>596</td>\n",
       "      <td>5.0</td>\n",
       "      <td>0</td>\n",
       "      <td>2</td>\n",
       "      <td>1</td>\n",
       "      <td>1.0</td>\n",
       "    </tr>\n",
       "    <tr>\n",
       "      <th>2</th>\n",
       "      <td>3</td>\n",
       "      <td>1</td>\n",
       "      <td>3</td>\n",
       "      <td>0</td>\n",
       "      <td>3.0</td>\n",
       "      <td>669</td>\n",
       "      <td>1.0</td>\n",
       "      <td>2</td>\n",
       "      <td>1</td>\n",
       "      <td>0</td>\n",
       "      <td>6.0</td>\n",
       "    </tr>\n",
       "    <tr>\n",
       "      <th>3</th>\n",
       "      <td>4</td>\n",
       "      <td>1</td>\n",
       "      <td>1</td>\n",
       "      <td>0</td>\n",
       "      <td>3.0</td>\n",
       "      <td>49</td>\n",
       "      <td>4.0</td>\n",
       "      <td>2</td>\n",
       "      <td>2</td>\n",
       "      <td>1</td>\n",
       "      <td>1.0</td>\n",
       "    </tr>\n",
       "    <tr>\n",
       "      <th>4</th>\n",
       "      <td>5</td>\n",
       "      <td>0</td>\n",
       "      <td>3</td>\n",
       "      <td>1</td>\n",
       "      <td>3.0</td>\n",
       "      <td>472</td>\n",
       "      <td>1.0</td>\n",
       "      <td>2</td>\n",
       "      <td>0</td>\n",
       "      <td>0</td>\n",
       "      <td>6.0</td>\n",
       "    </tr>\n",
       "  </tbody>\n",
       "</table>\n",
       "</div>"
      ],
      "text/plain": [
       "   PassengerId  Survived  Pclass  Sex  Age  Ticket  Fare  Embarked  Title  \\\n",
       "0            1         0       3    1  2.0     523   1.0         2      0   \n",
       "1            2         1       1    0  4.0     596   5.0         0      2   \n",
       "2            3         1       3    0  3.0     669   1.0         2      1   \n",
       "3            4         1       1    0  3.0      49   4.0         2      2   \n",
       "4            5         0       3    1  3.0     472   1.0         2      0   \n",
       "\n",
       "   Family  Cabgroup  \n",
       "0       1       6.0  \n",
       "1       1       1.0  \n",
       "2       0       6.0  \n",
       "3       1       1.0  \n",
       "4       0       6.0  "
      ]
     },
     "execution_count": 15,
     "metadata": {},
     "output_type": "execute_result"
    }
   ],
   "source": [
    "train.head()"
   ]
  },
  {
   "cell_type": "code",
   "execution_count": 16,
   "metadata": {
    "execution": {
     "iopub.execute_input": "2021-03-25T13:51:39.967954Z",
     "iopub.status.busy": "2021-03-25T13:51:39.966949Z",
     "iopub.status.idle": "2021-03-25T13:51:39.970427Z",
     "shell.execute_reply": "2021-03-25T13:51:39.969787Z"
    },
    "papermill": {
     "duration": 0.039378,
     "end_time": "2021-03-25T13:51:39.970570",
     "exception": false,
     "start_time": "2021-03-25T13:51:39.931192",
     "status": "completed"
    },
    "tags": []
   },
   "outputs": [],
   "source": [
    "# Initialize models\n",
    "\n",
    "lr = LogisticRegression(random_state=1)\n",
    "randF= RandomForestClassifier(n_estimators=100, max_depth=10,min_samples_split=5, min_samples_leaf= 5,random_state=0)\n",
    "dTree = DecisionTreeClassifier(max_depth=10, min_samples_split=5,min_samples_leaf= 5, random_state=0)\n",
    "\n",
    "voting_hard = VotingClassifier(estimators=[('Logreg', lr),\n",
    "                                          ('Random', randF),\n",
    "                                          ('Decision', dTree)])\n",
    "\n",
    "voting_soft = VotingClassifier(estimators=[('Logreg', lr),\n",
    "                                          ('Random', randF),\n",
    "                                          ('Decision', dTree)],\n",
    "                              voting='soft')"
   ]
  },
  {
   "cell_type": "code",
   "execution_count": 17,
   "metadata": {
    "execution": {
     "iopub.execute_input": "2021-03-25T13:51:40.037403Z",
     "iopub.status.busy": "2021-03-25T13:51:40.036423Z",
     "iopub.status.idle": "2021-03-25T13:51:40.039391Z",
     "shell.execute_reply": "2021-03-25T13:51:40.039870Z"
    },
    "papermill": {
     "duration": 0.039247,
     "end_time": "2021-03-25T13:51:40.040045",
     "exception": false,
     "start_time": "2021-03-25T13:51:40.000798",
     "status": "completed"
    },
    "tags": []
   },
   "outputs": [],
   "source": [
    "# create features and target varible from the train_data to cross_validate with the models\n",
    "\n",
    "y_train = train_data[\"Survived\"]\n",
    "x_train = train_data.drop([\"Survived\"], axis=1)"
   ]
  },
  {
   "cell_type": "markdown",
   "metadata": {
    "papermill": {
     "duration": 0.028946,
     "end_time": "2021-03-25T13:51:40.098469",
     "exception": false,
     "start_time": "2021-03-25T13:51:40.069523",
     "status": "completed"
    },
    "tags": []
   },
   "source": [
    "Cross validating my model on the training data."
   ]
  },
  {
   "cell_type": "code",
   "execution_count": 18,
   "metadata": {
    "execution": {
     "iopub.execute_input": "2021-03-25T13:51:40.164442Z",
     "iopub.status.busy": "2021-03-25T13:51:40.163727Z",
     "iopub.status.idle": "2021-03-25T13:51:42.554333Z",
     "shell.execute_reply": "2021-03-25T13:51:42.555176Z"
    },
    "papermill": {
     "duration": 2.427256,
     "end_time": "2021-03-25T13:51:42.555373",
     "exception": false,
     "start_time": "2021-03-25T13:51:40.128117",
     "status": "completed"
    },
    "tags": []
   },
   "outputs": [
    {
     "name": "stdout",
     "output_type": "stream",
     "text": [
      "LogisticRegression 0.7957351290684623\n",
      "RandomForestClassifier 0.8226711560044894\n",
      "DecisionTreeClassifier 0.7789001122334457\n",
      "VotingClassifier 0.819304152637486\n",
      "VotingClassifier 0.8271604938271605\n"
     ]
    }
   ],
   "source": [
    "for m in (lr, randF, dTree, voting_hard, voting_soft):\n",
    "    \n",
    "    print(m.__class__.__name__, cross_val_score(m, x_train, y_train, cv=3).mean())"
   ]
  },
  {
   "cell_type": "markdown",
   "metadata": {
    "papermill": {
     "duration": 0.030692,
     "end_time": "2021-03-25T13:51:42.616606",
     "exception": false,
     "start_time": "2021-03-25T13:51:42.585914",
     "status": "completed"
    },
    "tags": []
   },
   "source": [
    "# ****Observation****\n",
    "The RandomForestClassifer has the highest validation score followed by the VotingClassifers"
   ]
  },
  {
   "cell_type": "markdown",
   "metadata": {
    "papermill": {
     "duration": 0.032423,
     "end_time": "2021-03-25T13:51:42.679986",
     "exception": false,
     "start_time": "2021-03-25T13:51:42.647563",
     "status": "completed"
    },
    "tags": []
   },
   "source": [
    "# **Testing the on the test data**"
   ]
  },
  {
   "cell_type": "code",
   "execution_count": 19,
   "metadata": {
    "execution": {
     "iopub.execute_input": "2021-03-25T13:51:42.746157Z",
     "iopub.status.busy": "2021-03-25T13:51:42.745511Z",
     "iopub.status.idle": "2021-03-25T13:51:42.771569Z",
     "shell.execute_reply": "2021-03-25T13:51:42.772042Z"
    },
    "papermill": {
     "duration": 0.061585,
     "end_time": "2021-03-25T13:51:42.772221",
     "exception": false,
     "start_time": "2021-03-25T13:51:42.710636",
     "status": "completed"
    },
    "tags": []
   },
   "outputs": [
    {
     "data": {
      "text/html": [
       "<div>\n",
       "<style scoped>\n",
       "    .dataframe tbody tr th:only-of-type {\n",
       "        vertical-align: middle;\n",
       "    }\n",
       "\n",
       "    .dataframe tbody tr th {\n",
       "        vertical-align: top;\n",
       "    }\n",
       "\n",
       "    .dataframe thead th {\n",
       "        text-align: right;\n",
       "    }\n",
       "</style>\n",
       "<table border=\"1\" class=\"dataframe\">\n",
       "  <thead>\n",
       "    <tr style=\"text-align: right;\">\n",
       "      <th></th>\n",
       "      <th>PassengerId</th>\n",
       "      <th>Pclass</th>\n",
       "      <th>Name</th>\n",
       "      <th>Sex</th>\n",
       "      <th>Age</th>\n",
       "      <th>SibSp</th>\n",
       "      <th>Parch</th>\n",
       "      <th>Ticket</th>\n",
       "      <th>Fare</th>\n",
       "      <th>Cabin</th>\n",
       "      <th>Embarked</th>\n",
       "    </tr>\n",
       "  </thead>\n",
       "  <tbody>\n",
       "    <tr>\n",
       "      <th>0</th>\n",
       "      <td>892</td>\n",
       "      <td>3</td>\n",
       "      <td>Kelly, Mr. James</td>\n",
       "      <td>male</td>\n",
       "      <td>34.5</td>\n",
       "      <td>0</td>\n",
       "      <td>0</td>\n",
       "      <td>330911</td>\n",
       "      <td>7.8292</td>\n",
       "      <td>NaN</td>\n",
       "      <td>Q</td>\n",
       "    </tr>\n",
       "    <tr>\n",
       "      <th>1</th>\n",
       "      <td>893</td>\n",
       "      <td>3</td>\n",
       "      <td>Wilkes, Mrs. James (Ellen Needs)</td>\n",
       "      <td>female</td>\n",
       "      <td>47.0</td>\n",
       "      <td>1</td>\n",
       "      <td>0</td>\n",
       "      <td>363272</td>\n",
       "      <td>7.0000</td>\n",
       "      <td>NaN</td>\n",
       "      <td>S</td>\n",
       "    </tr>\n",
       "    <tr>\n",
       "      <th>2</th>\n",
       "      <td>894</td>\n",
       "      <td>2</td>\n",
       "      <td>Myles, Mr. Thomas Francis</td>\n",
       "      <td>male</td>\n",
       "      <td>62.0</td>\n",
       "      <td>0</td>\n",
       "      <td>0</td>\n",
       "      <td>240276</td>\n",
       "      <td>9.6875</td>\n",
       "      <td>NaN</td>\n",
       "      <td>Q</td>\n",
       "    </tr>\n",
       "    <tr>\n",
       "      <th>3</th>\n",
       "      <td>895</td>\n",
       "      <td>3</td>\n",
       "      <td>Wirz, Mr. Albert</td>\n",
       "      <td>male</td>\n",
       "      <td>27.0</td>\n",
       "      <td>0</td>\n",
       "      <td>0</td>\n",
       "      <td>315154</td>\n",
       "      <td>8.6625</td>\n",
       "      <td>NaN</td>\n",
       "      <td>S</td>\n",
       "    </tr>\n",
       "    <tr>\n",
       "      <th>4</th>\n",
       "      <td>896</td>\n",
       "      <td>3</td>\n",
       "      <td>Hirvonen, Mrs. Alexander (Helga E Lindqvist)</td>\n",
       "      <td>female</td>\n",
       "      <td>22.0</td>\n",
       "      <td>1</td>\n",
       "      <td>1</td>\n",
       "      <td>3101298</td>\n",
       "      <td>12.2875</td>\n",
       "      <td>NaN</td>\n",
       "      <td>S</td>\n",
       "    </tr>\n",
       "  </tbody>\n",
       "</table>\n",
       "</div>"
      ],
      "text/plain": [
       "   PassengerId  Pclass                                          Name     Sex  \\\n",
       "0          892       3                              Kelly, Mr. James    male   \n",
       "1          893       3              Wilkes, Mrs. James (Ellen Needs)  female   \n",
       "2          894       2                     Myles, Mr. Thomas Francis    male   \n",
       "3          895       3                              Wirz, Mr. Albert    male   \n",
       "4          896       3  Hirvonen, Mrs. Alexander (Helga E Lindqvist)  female   \n",
       "\n",
       "    Age  SibSp  Parch   Ticket     Fare Cabin Embarked  \n",
       "0  34.5      0      0   330911   7.8292   NaN        Q  \n",
       "1  47.0      1      0   363272   7.0000   NaN        S  \n",
       "2  62.0      0      0   240276   9.6875   NaN        Q  \n",
       "3  27.0      0      0   315154   8.6625   NaN        S  \n",
       "4  22.0      1      1  3101298  12.2875   NaN        S  "
      ]
     },
     "execution_count": 19,
     "metadata": {},
     "output_type": "execute_result"
    }
   ],
   "source": [
    "test = pd.read_csv(\"test.csv\")\n",
    "test.head()"
   ]
  },
  {
   "cell_type": "code",
   "execution_count": 20,
   "metadata": {
    "execution": {
     "iopub.execute_input": "2021-03-25T13:51:42.838322Z",
     "iopub.status.busy": "2021-03-25T13:51:42.837616Z",
     "iopub.status.idle": "2021-03-25T13:51:42.845631Z",
     "shell.execute_reply": "2021-03-25T13:51:42.845058Z"
    },
    "papermill": {
     "duration": 0.042133,
     "end_time": "2021-03-25T13:51:42.845788",
     "exception": false,
     "start_time": "2021-03-25T13:51:42.803655",
     "status": "completed"
    },
    "tags": []
   },
   "outputs": [
    {
     "data": {
      "text/plain": [
       "(418, 11)"
      ]
     },
     "execution_count": 20,
     "metadata": {},
     "output_type": "execute_result"
    }
   ],
   "source": [
    "test.shape"
   ]
  },
  {
   "cell_type": "code",
   "execution_count": 21,
   "metadata": {
    "execution": {
     "iopub.execute_input": "2021-03-25T13:51:42.912828Z",
     "iopub.status.busy": "2021-03-25T13:51:42.912214Z",
     "iopub.status.idle": "2021-03-25T13:51:42.919568Z",
     "shell.execute_reply": "2021-03-25T13:51:42.920064Z"
    },
    "papermill": {
     "duration": 0.042366,
     "end_time": "2021-03-25T13:51:42.920255",
     "exception": false,
     "start_time": "2021-03-25T13:51:42.877889",
     "status": "completed"
    },
    "tags": []
   },
   "outputs": [
    {
     "data": {
      "text/plain": [
       "PassengerId      0\n",
       "Pclass           0\n",
       "Name             0\n",
       "Sex              0\n",
       "Age             86\n",
       "SibSp            0\n",
       "Parch            0\n",
       "Ticket           0\n",
       "Fare             1\n",
       "Cabin          327\n",
       "Embarked         0\n",
       "dtype: int64"
      ]
     },
     "execution_count": 21,
     "metadata": {},
     "output_type": "execute_result"
    }
   ],
   "source": [
    "test.isnull().sum()"
   ]
  },
  {
   "cell_type": "code",
   "execution_count": 22,
   "metadata": {
    "execution": {
     "iopub.execute_input": "2021-03-25T13:51:42.989423Z",
     "iopub.status.busy": "2021-03-25T13:51:42.988701Z",
     "iopub.status.idle": "2021-03-25T13:51:42.993710Z",
     "shell.execute_reply": "2021-03-25T13:51:42.994279Z"
    },
    "papermill": {
     "duration": 0.041938,
     "end_time": "2021-03-25T13:51:42.994476",
     "exception": false,
     "start_time": "2021-03-25T13:51:42.952538",
     "status": "completed"
    },
    "tags": []
   },
   "outputs": [],
   "source": [
    "test[\"Fare\"].fillna(test[\"Fare\"].mean(), inplace = True)"
   ]
  },
  {
   "cell_type": "code",
   "execution_count": 23,
   "metadata": {
    "execution": {
     "iopub.execute_input": "2021-03-25T13:51:43.063360Z",
     "iopub.status.busy": "2021-03-25T13:51:43.062732Z",
     "iopub.status.idle": "2021-03-25T13:51:43.101679Z",
     "shell.execute_reply": "2021-03-25T13:51:43.100978Z"
    },
    "papermill": {
     "duration": 0.074928,
     "end_time": "2021-03-25T13:51:43.101833",
     "exception": false,
     "start_time": "2021-03-25T13:51:43.026905",
     "status": "completed"
    },
    "tags": []
   },
   "outputs": [
    {
     "data": {
      "text/html": [
       "<div>\n",
       "<style scoped>\n",
       "    .dataframe tbody tr th:only-of-type {\n",
       "        vertical-align: middle;\n",
       "    }\n",
       "\n",
       "    .dataframe tbody tr th {\n",
       "        vertical-align: top;\n",
       "    }\n",
       "\n",
       "    .dataframe thead th {\n",
       "        text-align: right;\n",
       "    }\n",
       "</style>\n",
       "<table border=\"1\" class=\"dataframe\">\n",
       "  <thead>\n",
       "    <tr style=\"text-align: right;\">\n",
       "      <th></th>\n",
       "      <th>PassengerId</th>\n",
       "      <th>Pclass</th>\n",
       "      <th>Sex</th>\n",
       "      <th>Age</th>\n",
       "      <th>Ticket</th>\n",
       "      <th>Fare</th>\n",
       "      <th>Embarked</th>\n",
       "      <th>Title</th>\n",
       "      <th>Family</th>\n",
       "      <th>Cabgroup</th>\n",
       "    </tr>\n",
       "  </thead>\n",
       "  <tbody>\n",
       "    <tr>\n",
       "      <th>0</th>\n",
       "      <td>892</td>\n",
       "      <td>3</td>\n",
       "      <td>1</td>\n",
       "      <td>3.0</td>\n",
       "      <td>152</td>\n",
       "      <td>1.0</td>\n",
       "      <td>1</td>\n",
       "      <td>0</td>\n",
       "      <td>0</td>\n",
       "      <td>6.0</td>\n",
       "    </tr>\n",
       "    <tr>\n",
       "      <th>1</th>\n",
       "      <td>893</td>\n",
       "      <td>3</td>\n",
       "      <td>0</td>\n",
       "      <td>4.0</td>\n",
       "      <td>221</td>\n",
       "      <td>1.0</td>\n",
       "      <td>2</td>\n",
       "      <td>2</td>\n",
       "      <td>1</td>\n",
       "      <td>6.0</td>\n",
       "    </tr>\n",
       "    <tr>\n",
       "      <th>2</th>\n",
       "      <td>894</td>\n",
       "      <td>2</td>\n",
       "      <td>1</td>\n",
       "      <td>5.0</td>\n",
       "      <td>73</td>\n",
       "      <td>1.0</td>\n",
       "      <td>1</td>\n",
       "      <td>0</td>\n",
       "      <td>0</td>\n",
       "      <td>6.0</td>\n",
       "    </tr>\n",
       "    <tr>\n",
       "      <th>3</th>\n",
       "      <td>895</td>\n",
       "      <td>3</td>\n",
       "      <td>1</td>\n",
       "      <td>3.0</td>\n",
       "      <td>147</td>\n",
       "      <td>1.0</td>\n",
       "      <td>2</td>\n",
       "      <td>0</td>\n",
       "      <td>0</td>\n",
       "      <td>6.0</td>\n",
       "    </tr>\n",
       "    <tr>\n",
       "      <th>4</th>\n",
       "      <td>896</td>\n",
       "      <td>3</td>\n",
       "      <td>0</td>\n",
       "      <td>2.0</td>\n",
       "      <td>138</td>\n",
       "      <td>1.0</td>\n",
       "      <td>2</td>\n",
       "      <td>2</td>\n",
       "      <td>2</td>\n",
       "      <td>6.0</td>\n",
       "    </tr>\n",
       "  </tbody>\n",
       "</table>\n",
       "</div>"
      ],
      "text/plain": [
       "   PassengerId  Pclass  Sex  Age  Ticket  Fare  Embarked  Title  Family  \\\n",
       "0          892       3    1  3.0     152   1.0         1      0       0   \n",
       "1          893       3    0  4.0     221   1.0         2      2       1   \n",
       "2          894       2    1  5.0      73   1.0         1      0       0   \n",
       "3          895       3    1  3.0     147   1.0         2      0       0   \n",
       "4          896       3    0  2.0     138   1.0         2      2       2   \n",
       "\n",
       "   Cabgroup  \n",
       "0       6.0  \n",
       "1       6.0  \n",
       "2       6.0  \n",
       "3       6.0  \n",
       "4       6.0  "
      ]
     },
     "execution_count": 23,
     "metadata": {},
     "output_type": "execute_result"
    }
   ],
   "source": [
    "test = transform_data(test)\n",
    "test.head()\n"
   ]
  },
  {
   "cell_type": "code",
   "execution_count": 24,
   "metadata": {
    "execution": {
     "iopub.execute_input": "2021-03-25T13:51:43.176366Z",
     "iopub.status.busy": "2021-03-25T13:51:43.175553Z",
     "iopub.status.idle": "2021-03-25T13:51:43.178902Z",
     "shell.execute_reply": "2021-03-25T13:51:43.179545Z"
    },
    "papermill": {
     "duration": 0.044163,
     "end_time": "2021-03-25T13:51:43.179733",
     "exception": false,
     "start_time": "2021-03-25T13:51:43.135570",
     "status": "completed"
    },
    "tags": []
   },
   "outputs": [
    {
     "data": {
      "text/plain": [
       "PassengerId    0\n",
       "Pclass         0\n",
       "Sex            0\n",
       "Age            0\n",
       "Ticket         0\n",
       "Fare           0\n",
       "Embarked       0\n",
       "Title          0\n",
       "Family         0\n",
       "Cabgroup       0\n",
       "dtype: int64"
      ]
     },
     "execution_count": 24,
     "metadata": {},
     "output_type": "execute_result"
    }
   ],
   "source": [
    "test.isnull().sum()"
   ]
  },
  {
   "cell_type": "code",
   "execution_count": 3,
   "metadata": {
    "papermill": {
     "duration": 0.05791,
     "end_time": "2021-03-25T13:51:43.271383",
     "exception": false,
     "start_time": "2021-03-25T13:51:43.213473",
     "status": "completed"
    },
    "tags": []
   },
   "outputs": [
    {
     "data": {
      "text/html": [
       "<div>\n",
       "<style scoped>\n",
       "    .dataframe tbody tr th:only-of-type {\n",
       "        vertical-align: middle;\n",
       "    }\n",
       "\n",
       "    .dataframe tbody tr th {\n",
       "        vertical-align: top;\n",
       "    }\n",
       "\n",
       "    .dataframe thead th {\n",
       "        text-align: right;\n",
       "    }\n",
       "</style>\n",
       "<table border=\"1\" class=\"dataframe\">\n",
       "  <thead>\n",
       "    <tr style=\"text-align: right;\">\n",
       "      <th></th>\n",
       "      <th>PassengerId</th>\n",
       "      <th>Survived</th>\n",
       "    </tr>\n",
       "  </thead>\n",
       "  <tbody>\n",
       "    <tr>\n",
       "      <th>0</th>\n",
       "      <td>892</td>\n",
       "      <td>0</td>\n",
       "    </tr>\n",
       "    <tr>\n",
       "      <th>1</th>\n",
       "      <td>893</td>\n",
       "      <td>1</td>\n",
       "    </tr>\n",
       "    <tr>\n",
       "      <th>2</th>\n",
       "      <td>894</td>\n",
       "      <td>0</td>\n",
       "    </tr>\n",
       "    <tr>\n",
       "      <th>3</th>\n",
       "      <td>895</td>\n",
       "      <td>0</td>\n",
       "    </tr>\n",
       "    <tr>\n",
       "      <th>4</th>\n",
       "      <td>896</td>\n",
       "      <td>1</td>\n",
       "    </tr>\n",
       "  </tbody>\n",
       "</table>\n",
       "</div>"
      ],
      "text/plain": [
       "   PassengerId  Survived\n",
       "0          892         0\n",
       "1          893         1\n",
       "2          894         0\n",
       "3          895         0\n",
       "4          896         1"
      ]
     },
     "execution_count": 3,
     "metadata": {},
     "output_type": "execute_result"
    }
   ],
   "source": [
    "y_test = pd.read_csv(\"gender_submission.csv\")\n",
    "y_test.head()"
   ]
  },
  {
   "cell_type": "code",
   "execution_count": 26,
   "metadata": {
    "execution": {
     "iopub.execute_input": "2021-03-25T13:51:43.344029Z",
     "iopub.status.busy": "2021-03-25T13:51:43.343411Z",
     "iopub.status.idle": "2021-03-25T13:51:44.215682Z",
     "shell.execute_reply": "2021-03-25T13:51:44.216136Z"
    },
    "papermill": {
     "duration": 0.910371,
     "end_time": "2021-03-25T13:51:44.216367",
     "exception": false,
     "start_time": "2021-03-25T13:51:43.305996",
     "status": "completed"
    },
    "tags": []
   },
   "outputs": [
    {
     "name": "stdout",
     "output_type": "stream",
     "text": [
      "LogisticRegression 0.8851674641148325\n",
      "RandomForestClassifier 0.9090909090909091\n",
      "DecisionTreeClassifier 0.868421052631579\n",
      "VotingClassifier 0.9234449760765551\n",
      "VotingClassifier 0.9234449760765551\n"
     ]
    }
   ],
   "source": [
    "for m in (lr, randF, dTree, voting_hard, voting_soft):\n",
    "    m.fit(x_train, y_train)\n",
    "    y_pred = m.predict(test)\n",
    "#     print(y_pred)\n",
    "    \n",
    "    print(m.__class__.__name__, accuracy_score(y_test['Survived'], y_pred))"
   ]
  },
  {
   "cell_type": "code",
   "execution_count": 27,
   "metadata": {
    "execution": {
     "iopub.execute_input": "2021-03-25T13:51:44.292606Z",
     "iopub.status.busy": "2021-03-25T13:51:44.291909Z",
     "iopub.status.idle": "2021-03-25T13:51:46.423084Z",
     "shell.execute_reply": "2021-03-25T13:51:46.422319Z"
    },
    "papermill": {
     "duration": 2.171706,
     "end_time": "2021-03-25T13:51:46.423288",
     "exception": false,
     "start_time": "2021-03-25T13:51:44.251582",
     "status": "completed"
    },
    "tags": []
   },
   "outputs": [
    {
     "name": "stdout",
     "output_type": "stream",
     "text": [
      "LogisticRegression 0.9521240150736553\n",
      "RandomForestClassifier 0.9497259335388831\n",
      "DecisionTreeClassifier 0.9593525179856114\n",
      "VotingClassifier 0.9593182596779718\n",
      "VotingClassifier 0.9617334703665638\n"
     ]
    }
   ],
   "source": [
    "for m in (lr, randF, dTree, voting_hard, voting_soft):\n",
    "    \n",
    "    print(m.__class__.__name__, cross_val_score(m, test, y_pred, cv=3).mean())"
   ]
  },
  {
   "cell_type": "code",
   "execution_count": 28,
   "metadata": {
    "execution": {
     "iopub.execute_input": "2021-03-25T13:51:46.506138Z",
     "iopub.status.busy": "2021-03-25T13:51:46.505153Z",
     "iopub.status.idle": "2021-03-25T13:51:47.380152Z",
     "shell.execute_reply": "2021-03-25T13:51:47.379647Z"
    },
    "papermill": {
     "duration": 0.919346,
     "end_time": "2021-03-25T13:51:47.380298",
     "exception": false,
     "start_time": "2021-03-25T13:51:46.460952",
     "status": "completed"
    },
    "tags": []
   },
   "outputs": [
    {
     "name": "stdout",
     "output_type": "stream",
     "text": [
      "LogisticRegression [[232  34]\n",
      " [ 14 138]]\n",
      "RandomForestClassifier [[244  22]\n",
      " [ 16 136]]\n",
      "DecisionTreeClassifier [[232  34]\n",
      " [ 21 131]]\n",
      "VotingClassifier [[246  20]\n",
      " [ 12 140]]\n",
      "VotingClassifier [[242  24]\n",
      " [  8 144]]\n"
     ]
    }
   ],
   "source": [
    "for m in (lr, randF, dTree, voting_hard, voting_soft):\n",
    "    m.fit(x_train, y_train)\n",
    "    y_pred = m.predict(test)\n",
    "    \n",
    "    print(m.__class__.__name__, confusion_matrix(y_test['Survived'], y_pred))"
   ]
  },
  {
   "cell_type": "code",
   "execution_count": 29,
   "metadata": {
    "execution": {
     "iopub.execute_input": "2021-03-25T13:51:47.463450Z",
     "iopub.status.busy": "2021-03-25T13:51:47.462516Z",
     "iopub.status.idle": "2021-03-25T13:51:47.471034Z",
     "shell.execute_reply": "2021-03-25T13:51:47.470533Z"
    },
    "papermill": {
     "duration": 0.052585,
     "end_time": "2021-03-25T13:51:47.471173",
     "exception": false,
     "start_time": "2021-03-25T13:51:47.418588",
     "status": "completed"
    },
    "tags": []
   },
   "outputs": [
    {
     "name": "stdout",
     "output_type": "stream",
     "text": [
      "Your submission was successfully saved!\n"
     ]
    }
   ],
   "source": [
    "output = pd.DataFrame({'PassengerId': test.PassengerId, 'Survived': y_pred})\n",
    "output.to_csv('titanic_notebook_submission.csv', index=False)\n",
    "print(\"Your submission was successfully saved!\")"
   ]
  },
  {
   "cell_type": "code",
   "execution_count": null,
   "metadata": {
    "papermill": {
     "duration": 0.038151,
     "end_time": "2021-03-25T13:51:47.547944",
     "exception": false,
     "start_time": "2021-03-25T13:51:47.509793",
     "status": "completed"
    },
    "tags": []
   },
   "outputs": [],
   "source": []
  }
 ],
 "metadata": {
  "kernelspec": {
   "display_name": "Python 3",
   "language": "python",
   "name": "python3"
  },
  "language_info": {
   "codemirror_mode": {
    "name": "ipython",
    "version": 3
   },
   "file_extension": ".py",
   "mimetype": "text/x-python",
   "name": "python",
   "nbconvert_exporter": "python",
   "pygments_lexer": "ipython3",
   "version": "3.8.8"
  },
  "papermill": {
   "default_parameters": {},
   "duration": 17.587732,
   "end_time": "2021-03-25T13:51:48.296620",
   "environment_variables": {},
   "exception": null,
   "input_path": "__notebook__.ipynb",
   "output_path": "__notebook__.ipynb",
   "parameters": {},
   "start_time": "2021-03-25T13:51:30.708888",
   "version": "2.2.2"
  }
 },
 "nbformat": 4,
 "nbformat_minor": 4
}
